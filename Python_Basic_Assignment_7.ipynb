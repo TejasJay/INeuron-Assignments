{
 "cells": [
  {
   "cell_type": "markdown",
   "metadata": {},
   "source": [
    "## 1. What is the name of the feature responsible for generating Regex objects?\n",
    "\n",
    "### The re. compile() function returns Regex objects\n"
   ]
  },
  {
   "cell_type": "code",
   "execution_count": null,
   "metadata": {},
   "outputs": [],
   "source": []
  },
  {
   "cell_type": "markdown",
   "metadata": {},
   "source": [
    "## 2. Why do raw strings often appear in Regex objects?\n",
    "\n",
    "### Raw strings are used so that backslashes do not have to be escaped. A raw string is simply one of these representations. If two representations result in the same sequence of characters, they produce equivalent behaviour. Imagine a 2-character string, consisting of the backslash character followed by the n character.\n"
   ]
  },
  {
   "cell_type": "code",
   "execution_count": null,
   "metadata": {},
   "outputs": [],
   "source": []
  },
  {
   "cell_type": "markdown",
   "metadata": {},
   "source": [
    "## 3. What is the return value of the search() method?\n",
    "\n",
    "### The re. search() function takes two parameters and returns a match object if there is a match. If there is more than one match, only the first occurrence of the match will be returned. If no matches are found, the value None is returned."
   ]
  },
  {
   "cell_type": "code",
   "execution_count": null,
   "metadata": {},
   "outputs": [],
   "source": []
  },
  {
   "cell_type": "markdown",
   "metadata": {},
   "source": [
    "## 4. From a Match item, how do you get the actual strings that match the pattern?\n",
    "\n",
    "### The search() method returns Match objects. The group() method returns strings of the matched text."
   ]
  },
  {
   "cell_type": "code",
   "execution_count": 71,
   "metadata": {},
   "outputs": [
    {
     "data": {
      "text/plain": [
       "<re.Match object; span=(11, 15), match='good'>"
      ]
     },
     "execution_count": 71,
     "metadata": {},
     "output_type": "execute_result"
    }
   ],
   "source": [
    "import re\n",
    "a= re.search(\"good\",\"today is a good day\")\n",
    "type(a)\n",
    "a"
   ]
  },
  {
   "cell_type": "code",
   "execution_count": 32,
   "metadata": {},
   "outputs": [
    {
     "data": {
      "text/plain": [
       "'good'"
      ]
     },
     "execution_count": 32,
     "metadata": {},
     "output_type": "execute_result"
    }
   ],
   "source": [
    "b =a.group()\n",
    "b"
   ]
  },
  {
   "cell_type": "code",
   "execution_count": null,
   "metadata": {},
   "outputs": [],
   "source": []
  },
  {
   "cell_type": "markdown",
   "metadata": {},
   "source": [
    "## 5. In the regex which created from the r'(\\d\\d\\d)-(\\d\\d\\d-\\d\\d\\d\\d)', what does group zero cover? Group 2? Group 1?"
   ]
  },
  {
   "cell_type": "code",
   "execution_count": 35,
   "metadata": {},
   "outputs": [
    {
     "data": {
      "text/plain": [
       "re.Pattern"
      ]
     },
     "execution_count": 35,
     "metadata": {},
     "output_type": "execute_result"
    }
   ],
   "source": [
    "a = re.compile(r'(\\d\\d\\d)-(\\d\\d\\d-\\d\\d\\d\\d)')\n",
    "type(a)"
   ]
  },
  {
   "cell_type": "code",
   "execution_count": 54,
   "metadata": {},
   "outputs": [
    {
     "data": {
      "text/plain": [
       "<re.Match object; span=(0, 12), match='519-991-3372'>"
      ]
     },
     "execution_count": 54,
     "metadata": {},
     "output_type": "execute_result"
    }
   ],
   "source": [
    "b = a.search('519-991-3372')\n",
    "b"
   ]
  },
  {
   "cell_type": "code",
   "execution_count": 56,
   "metadata": {},
   "outputs": [
    {
     "name": "stdout",
     "output_type": "stream",
     "text": [
      "519-991-3372 519 991-3372\n"
     ]
    }
   ],
   "source": [
    "print(b.group(0), b.group(1), b.group(2))"
   ]
  },
  {
   "cell_type": "code",
   "execution_count": null,
   "metadata": {},
   "outputs": [],
   "source": []
  },
  {
   "cell_type": "markdown",
   "metadata": {},
   "source": [
    "## 6. In standard expression syntax, parentheses and intervals have distinct meanings. How can you tell a regex that you want it to fit real parentheses and periods?\n",
    "\n",
    "### n your regex you need to escape the dot \"\\.\" or use it inside a character class \"[.]\", as it is a meta-character in regex, which matches any character."
   ]
  },
  {
   "cell_type": "code",
   "execution_count": null,
   "metadata": {},
   "outputs": [],
   "source": []
  },
  {
   "cell_type": "markdown",
   "metadata": {},
   "source": [
    "## 7. The findall() method returns a string list or a list of string tuples. What causes it to return one of the two options?\n"
   ]
  },
  {
   "cell_type": "code",
   "execution_count": 58,
   "metadata": {},
   "outputs": [
    {
     "data": {
      "text/plain": [
       "['to', 'to', 'to']"
      ]
     },
     "execution_count": 58,
     "metadata": {},
     "output_type": "execute_result"
    }
   ],
   "source": [
    "re.findall('to','I am go to play football today and tomorrow')"
   ]
  },
  {
   "cell_type": "code",
   "execution_count": null,
   "metadata": {},
   "outputs": [],
   "source": []
  },
  {
   "cell_type": "markdown",
   "metadata": {},
   "source": [
    "## 8. In standard expressions, what does the | character mean?\n",
    "\n",
    "### It is a bitwise OR operator.\n"
   ]
  },
  {
   "cell_type": "code",
   "execution_count": null,
   "metadata": {},
   "outputs": [],
   "source": []
  },
  {
   "cell_type": "markdown",
   "metadata": {},
   "source": [
    "## 9. In regular expressions, what does the character stand for?\n",
    "\n",
    "### The Vertical Bar or Pipe Symbol. That is, it tells the regex engine to match either everything to the left of the vertical bar, or everything to the right of the vertical bar."
   ]
  },
  {
   "cell_type": "code",
   "execution_count": null,
   "metadata": {},
   "outputs": [],
   "source": []
  },
  {
   "cell_type": "markdown",
   "metadata": {},
   "source": [
    "## 10. In regular expressions, what is the difference between the + and * characters?\n",
    "\n",
    "### The plus character [+], matches one or more occurrences of the character that comes before it. A regular expression followed by an asterisk ( * ) matches zero or more occurrences of the regular expression. "
   ]
  },
  {
   "cell_type": "code",
   "execution_count": null,
   "metadata": {},
   "outputs": [],
   "source": []
  },
  {
   "cell_type": "markdown",
   "metadata": {},
   "source": [
    "## 11. What is the difference between {4} and {4,5} in regular expression?\n",
    "\n",
    "### (Ha){4} > returns > HaHaHaHa\n",
    "\n",
    "### (Ha){4,5} > > returns > HaHaHaHa and HaHaHaHaHa"
   ]
  },
  {
   "cell_type": "code",
   "execution_count": null,
   "metadata": {},
   "outputs": [],
   "source": []
  },
  {
   "cell_type": "markdown",
   "metadata": {},
   "source": [
    "## 12. What do you mean by the \\d, \\w, and \\s shorthand character classes signify in regular expressions?\n",
    "\n",
    "### \\d (digit) matches any single digit (same as [0-9] ). The uppercase counterpart \\D (non-digit) matches any single character that is not a digit\n",
    "\n",
    "### \\s is fairly simple - it's a common shorthand in many regex flavours for \"any whitespace character\". This includes spaces, tabs, and newlines.\n",
    "\n",
    "### \\w -- (lowercase w) matches a \"word\" character: a letter or digit or underbar [a-zA-Z0-9_]. Note that although \"word\" is the mnemonic for this, it only matches a single word char, not a whole word. \\W (upper case W) matches any non-word character."
   ]
  },
  {
   "cell_type": "code",
   "execution_count": null,
   "metadata": {},
   "outputs": [],
   "source": []
  },
  {
   "cell_type": "markdown",
   "metadata": {},
   "source": [
    "## 13. What do means by \\D, \\W, and \\S shorthand character classes signify in regular expressions?\n",
    "\n",
    "### The uppercase counterpart \\D (non-digit) matches any single character that is not a digit.\n",
    "\n",
    "### \\W (upper case W) matches any non-word character.\n",
    "\n",
    "### \\S, anything except a whitespace (newline, tab, space)"
   ]
  },
  {
   "cell_type": "code",
   "execution_count": null,
   "metadata": {},
   "outputs": [],
   "source": []
  },
  {
   "cell_type": "markdown",
   "metadata": {},
   "source": [
    "## 14. What is the difference between .*? and .*?\n",
    "\n",
    "### the .*? will match anything except a \\n for any number of characters, until it hits something that's not a backslash, followed by a newline."
   ]
  },
  {
   "cell_type": "code",
   "execution_count": null,
   "metadata": {},
   "outputs": [],
   "source": []
  },
  {
   "cell_type": "markdown",
   "metadata": {},
   "source": [
    "## 15. What is the syntax for matching both numbers and lowercase letters with a character class?\n",
    "\n",
    "### the regular expression \"[ A-Za-z] \" specifies to match any single uppercase or lowercase letter."
   ]
  },
  {
   "cell_type": "code",
   "execution_count": null,
   "metadata": {},
   "outputs": [],
   "source": []
  },
  {
   "cell_type": "markdown",
   "metadata": {},
   "source": [
    "## 16. What is the procedure for making a normal expression in regax case insensitive?\n",
    "\n",
    "### The case-insensitive marker, (?i) can be incorporated directly into the regex pattern"
   ]
  },
  {
   "cell_type": "code",
   "execution_count": 62,
   "metadata": {},
   "outputs": [
    {
     "data": {
      "text/plain": [
       "['TeSt', 'TEST', 'test']"
      ]
     },
     "execution_count": 62,
     "metadata": {},
     "output_type": "execute_result"
    }
   ],
   "source": [
    "import re\n",
    "s = 'This is one TeSt, another TEST, and another test.'\n",
    "re.findall('(?i)test', s)"
   ]
  },
  {
   "cell_type": "code",
   "execution_count": null,
   "metadata": {},
   "outputs": [],
   "source": []
  },
  {
   "cell_type": "markdown",
   "metadata": {},
   "source": [
    "## 17. What does the . character normally match? What does it match if re.DOTALL is passed as 2nd argument in re.compile()?\n",
    "\n",
    "### If re. DOTALL is passed as the second argument to re. compile(), then the dot will also match newline characters."
   ]
  },
  {
   "cell_type": "code",
   "execution_count": 84,
   "metadata": {},
   "outputs": [
    {
     "data": {
      "text/plain": [
       "re.compile(r'This is one TeSt, another TEST, and another test.',\n",
       "re.DOTALL|re.UNICODE)"
      ]
     },
     "execution_count": 84,
     "metadata": {},
     "output_type": "execute_result"
    }
   ],
   "source": [
    "import re\n",
    "a = re.compile('This is one TeSt, another TEST, and another test.',re.DOTALL)\n",
    "a"
   ]
  },
  {
   "cell_type": "code",
   "execution_count": null,
   "metadata": {},
   "outputs": [],
   "source": []
  },
  {
   "cell_type": "markdown",
   "metadata": {},
   "source": [
    "##  18. If numReg = re.compile(r'\\d+'), what will numRegex.sub('X', '11 drummers, 10 pipers, five rings, 4 hen') return?\n"
   ]
  },
  {
   "cell_type": "code",
   "execution_count": 81,
   "metadata": {},
   "outputs": [
    {
     "data": {
      "text/plain": [
       "'X drummers, X pipers, five rings, X hen'"
      ]
     },
     "execution_count": 81,
     "metadata": {},
     "output_type": "execute_result"
    }
   ],
   "source": [
    "numRegex = re.compile(r'\\d+')\n",
    "numRegex.sub('X', '11 drummers, 10 pipers, five rings, 4 hen')"
   ]
  },
  {
   "cell_type": "code",
   "execution_count": null,
   "metadata": {},
   "outputs": [],
   "source": []
  },
  {
   "cell_type": "markdown",
   "metadata": {},
   "source": [
    "## 19. What does passing re.VERBOSE as the 2nd argument to re.compile() allow to do?\n",
    "\n",
    "### The re. VERBOSE argument allows you to add whitespace and comments to the string passed to re.\n"
   ]
  },
  {
   "cell_type": "code",
   "execution_count": 85,
   "metadata": {},
   "outputs": [
    {
     "data": {
      "text/plain": [
       "re.compile(r'     11 drummers, 10 pipers, five rings, 4 hen',\n",
       "re.UNICODE|re.VERBOSE)"
      ]
     },
     "execution_count": 85,
     "metadata": {},
     "output_type": "execute_result"
    }
   ],
   "source": [
    "re.compile('     11 drummers, 10 pipers, five rings, 4 hen', re.VERBOSE)"
   ]
  },
  {
   "cell_type": "code",
   "execution_count": null,
   "metadata": {},
   "outputs": [],
   "source": []
  },
  {
   "cell_type": "markdown",
   "metadata": {},
   "source": [
    "## 20. How would you write a regex that match a number with comma for every three digits? It must match the given following:\n",
    "\n",
    "'42'\n",
    "\n",
    "'1,234'\n",
    "\n",
    "'6,368,745'\n",
    "\n",
    "### but not the following:\n",
    "\n",
    "'12,34,567' (which has only two digits between the commas)\n",
    "\n",
    "'1234' (which lacks commas)\n"
   ]
  },
  {
   "cell_type": "code",
   "execution_count": 89,
   "metadata": {},
   "outputs": [
    {
     "name": "stdout",
     "output_type": "stream",
     "text": [
      "Type a number with commas\n",
      "6,368,745\n",
      "6,368,745 matches the pattern.\n"
     ]
    }
   ],
   "source": [
    "print('Type a number with commas')\n",
    "sentence = input() \n",
    "\n",
    "import re\n",
    "\n",
    "pattern = re. compile(r'\\d{1,3}(,\\d{3})*')\n",
    "\n",
    "matches = pattern.match(sentence)\n",
    "if matches.group(0) != sentence:\n",
    "    #Checks to see if the input value\n",
    "    #does NOT match the pattern.\n",
    "    print ('Does Not Match the Regular Expression!')\n",
    "\n",
    "else:\n",
    "    print(matches.group(0)+ ' matches the pattern.')\n",
    "    #If the values match it will state verification."
   ]
  },
  {
   "cell_type": "code",
   "execution_count": null,
   "metadata": {},
   "outputs": [],
   "source": []
  },
  {
   "cell_type": "markdown",
   "metadata": {},
   "source": [
    "## 21. How would you write a regex that matches the full name of someone whose last name is Watanabe? You can assume that the first name that comes before it will always be one word that begins with a capital letter. The regex must match the following:\n",
    "\n",
    "'Haruto Watanabe'\n",
    "\n",
    "'Alice Watanabe'\n",
    "\n",
    "'RoboCop Watanabe'\n",
    "\n",
    "but not the following:\n",
    "\n",
    "'haruto Watanabe' (where the first name is not capitalized)\n",
    "\n",
    "'Mr. Watanabe' (where the preceding word has a nonletter character)\n",
    "\n",
    "'Watanabe' (which has no first name)\n",
    "\n",
    "'Haruto watanabe' (where Watanabe is not capitalized)\n"
   ]
  },
  {
   "cell_type": "code",
   "execution_count": 104,
   "metadata": {},
   "outputs": [
    {
     "name": "stdout",
     "output_type": "stream",
     "text": [
      "\"test Haruto Watanabe test\" matches\n",
      "\"test Alice Watanabe test\" matches\n",
      "\"test RoboCop Watanabe test\" matches\n",
      "\"test haruto Watanabe test\" does not match\n",
      "\"test Mr. Watanabe test\" does not match\n",
      "\"test Watanabe test\" does not match\n",
      "\"test Haruto watanabe test\" does not match\n"
     ]
    }
   ],
   "source": [
    "import re\n",
    "\n",
    "def printMatch(name):\n",
    "    pat = re.compile(r'\\b[A-Z][a-zA-Z]+\\sWatanabe')\n",
    "    if pat.search(name):\n",
    "        print('\"'+name+'\" matches')\n",
    "    else:\n",
    "        print('\"'+name+'\" does not match')\n",
    "\n",
    "printMatch('test Haruto Watanabe test')\n",
    "printMatch('test Alice Watanabe test')\n",
    "printMatch('test RoboCop Watanabe test')\n",
    "printMatch('test haruto Watanabe test')\n",
    "printMatch('test Mr. Watanabe test')\n",
    "printMatch('test Watanabe test')\n",
    "printMatch('test Haruto watanabe test')"
   ]
  },
  {
   "cell_type": "code",
   "execution_count": null,
   "metadata": {},
   "outputs": [],
   "source": []
  },
  {
   "cell_type": "markdown",
   "metadata": {},
   "source": [
    "## 22. How would you write a regex that matches a sentence where the first word is either Alice, Bob, or Carol; the second word is either eats, pets, or throws; the third word is apples, cats, or baseballs; and the sentence ends with a period? This regex should be case-insensitive. It must match the following:\n",
    "\n",
    "'Alice eats apples.'\n",
    "\n",
    "'Bob pets cats.'\n",
    "\n",
    "'Carol throws baseballs.'\n",
    "\n",
    "'Alice throws Apples.'\n",
    "\n",
    "'BOB EATS CATS.'\n",
    "\n",
    "### but not the following:\n",
    "\n",
    "'RoboCop eats apples.'\n",
    "\n",
    "'ALICE THROWS FOOTBALLS.'\n",
    "\n",
    "'Carol eats 7 cats.'\n"
   ]
  },
  {
   "cell_type": "code",
   "execution_count": 109,
   "metadata": {},
   "outputs": [
    {
     "name": "stdout",
     "output_type": "stream",
     "text": [
      "\"test Alice eats apples. test\" matches\n",
      "\"test Bob pets cats. test\" matches\n",
      "\"test Carol throws baseballs. test\" matches\n",
      "\"test Alice throws Apples. test\" matches\n",
      "\"test BOB EATS CATS. test\" matches\n",
      "\"test RoboCop eats apples. test\" does not match\n",
      "\"test ALICE THROWS FOOTBALLS. test\" does not match\n",
      "\"test Carol eats 7 cats. test\" does not match\n"
     ]
    }
   ],
   "source": [
    "import re\n",
    "\n",
    "def printMatch(name):\n",
    "    regex=re.compile(r'(Alice|Bob|Carol)\\s+(eats|pets|throws)\\s+(apples|cats|baseballs)\\.', re.IGNORECASE)\n",
    "    if regex.search(name):\n",
    "        print('\"'+name+'\" matches')\n",
    "    else:\n",
    "        print('\"'+name+'\" does not match')\n",
    "\n",
    "printMatch('test Alice eats apples. test')\n",
    "printMatch('test Bob pets cats. test')\n",
    "printMatch('test Carol throws baseballs. test')\n",
    "printMatch('test Alice throws Apples. test')\n",
    "printMatch('test BOB EATS CATS. test')\n",
    "printMatch('test RoboCop eats apples. test')\n",
    "printMatch('test ALICE THROWS FOOTBALLS. test')\n",
    "printMatch('test Carol eats 7 cats. test')"
   ]
  },
  {
   "cell_type": "code",
   "execution_count": null,
   "metadata": {},
   "outputs": [],
   "source": []
  }
 ],
 "metadata": {
  "kernelspec": {
   "display_name": "Python 3",
   "language": "python",
   "name": "python3"
  },
  "language_info": {
   "codemirror_mode": {
    "name": "ipython",
    "version": 3
   },
   "file_extension": ".py",
   "mimetype": "text/x-python",
   "name": "python",
   "nbconvert_exporter": "python",
   "pygments_lexer": "ipython3",
   "version": "3.8.5"
  }
 },
 "nbformat": 4,
 "nbformat_minor": 4
}
