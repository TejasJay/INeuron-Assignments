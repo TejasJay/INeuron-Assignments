{
 "cells": [
  {
   "cell_type": "markdown",
   "metadata": {},
   "source": [
    "## 1. Add the current date to the text file today.txt as a string."
   ]
  },
  {
   "cell_type": "code",
   "execution_count": 4,
   "metadata": {},
   "outputs": [],
   "source": [
    "import datetime\n",
    "today= datetime.datetime.now()\n",
    "def create_file():\n",
    "    with open(\"today.txt\", \"w\") as file:\n",
    "        file.write(str(today))\n",
    "  \n",
    "create_file()"
   ]
  },
  {
   "cell_type": "code",
   "execution_count": null,
   "metadata": {},
   "outputs": [],
   "source": []
  },
  {
   "cell_type": "markdown",
   "metadata": {},
   "source": [
    "## 2. Read the text file today.txt into the string today_string\n"
   ]
  },
  {
   "cell_type": "code",
   "execution_count": 5,
   "metadata": {},
   "outputs": [
    {
     "data": {
      "text/plain": [
       "'2021-07-03 02:10:48.676462'"
      ]
     },
     "execution_count": 5,
     "metadata": {},
     "output_type": "execute_result"
    }
   ],
   "source": [
    "today_string = open('today.txt','r')\n",
    "today_string.read()"
   ]
  },
  {
   "cell_type": "code",
   "execution_count": null,
   "metadata": {},
   "outputs": [],
   "source": []
  },
  {
   "cell_type": "markdown",
   "metadata": {},
   "source": [
    "## 3. Parse the date from today_string.\n",
    "\n"
   ]
  },
  {
   "cell_type": "code",
   "execution_count": 24,
   "metadata": {},
   "outputs": [
    {
     "data": {
      "text/plain": [
       "datetime.datetime(2021, 7, 3, 0, 0)"
      ]
     },
     "execution_count": 24,
     "metadata": {},
     "output_type": "execute_result"
    }
   ],
   "source": [
    "datetime.datetime.strptime('2021-07-03','%Y-%m-%d')"
   ]
  },
  {
   "cell_type": "code",
   "execution_count": null,
   "metadata": {},
   "outputs": [],
   "source": []
  },
  {
   "cell_type": "markdown",
   "metadata": {},
   "source": [
    "## 4. List the files in your current directory\n"
   ]
  },
  {
   "cell_type": "code",
   "execution_count": 25,
   "metadata": {},
   "outputs": [
    {
     "data": {
      "text/plain": [
       "['.ipynb_checkpoints',\n",
       " 'books.db',\n",
       " 'books.db-journal',\n",
       " 'Python_Basic_Assignment_1.ipynb',\n",
       " 'Python_Basic_Assignment_10.ipynb',\n",
       " 'Python_Basic_Assignment_11.ipynb',\n",
       " 'Python_Basic_Assignment_12.ipynb',\n",
       " 'Python_Basic_Assignment_13.ipynb',\n",
       " 'Python_Basic_Assignment_14.ipynb',\n",
       " 'Python_Basic_Assignment_15.ipynb',\n",
       " 'Python_Basic_Assignment_16.ipynb',\n",
       " 'Python_Basic_Assignment_17.ipynb',\n",
       " 'Python_Basic_Assignment_18.ipynb',\n",
       " 'Python_Basic_Assignment_19.ipynb',\n",
       " 'Python_Basic_Assignment_2.ipynb',\n",
       " 'Python_Basic_Assignment_20.ipynb',\n",
       " 'Python_Basic_Assignment_21.ipynb',\n",
       " 'Python_Basic_Assignment_3.ipynb',\n",
       " 'Python_Basic_Assignment_4.ipynb',\n",
       " 'Python_Basic_Assignment_5.ipynb',\n",
       " 'Python_Basic_Assignment_6.ipynb',\n",
       " 'Python_Basic_Assignment_7.ipynb',\n",
       " 'Python_Basic_Assignment_8.ipynb',\n",
       " 'Python_Basic_Assignment_9.ipynb',\n",
       " 'test.txt',\n",
       " 'today.txt',\n",
       " '__pycache__']"
      ]
     },
     "execution_count": 25,
     "metadata": {},
     "output_type": "execute_result"
    }
   ],
   "source": [
    "import os\n",
    "os.listdir()"
   ]
  },
  {
   "cell_type": "code",
   "execution_count": 37,
   "metadata": {},
   "outputs": [],
   "source": []
  },
  {
   "cell_type": "markdown",
   "metadata": {},
   "source": [
    "## 5. Create a list of all of the files in your parent directory (minimum five files should be available).\n",
    "\n",
    "\n"
   ]
  },
  {
   "cell_type": "code",
   "execution_count": 26,
   "metadata": {},
   "outputs": [
    {
     "name": "stdout",
     "output_type": "stream",
     "text": [
      "['.ipynb_checkpoints', 'books.db', 'books.db-journal', 'Python_Basic_Assignment_1.ipynb', 'Python_Basic_Assignment_10.ipynb', 'Python_Basic_Assignment_11.ipynb', 'Python_Basic_Assignment_12.ipynb', 'Python_Basic_Assignment_13.ipynb', 'Python_Basic_Assignment_14.ipynb', 'Python_Basic_Assignment_15.ipynb', 'Python_Basic_Assignment_16.ipynb', 'Python_Basic_Assignment_17.ipynb', 'Python_Basic_Assignment_18.ipynb', 'Python_Basic_Assignment_19.ipynb', 'Python_Basic_Assignment_2.ipynb', 'Python_Basic_Assignment_20.ipynb', 'Python_Basic_Assignment_21.ipynb', 'Python_Basic_Assignment_3.ipynb', 'Python_Basic_Assignment_4.ipynb', 'Python_Basic_Assignment_5.ipynb', 'Python_Basic_Assignment_6.ipynb', 'Python_Basic_Assignment_7.ipynb', 'Python_Basic_Assignment_8.ipynb', 'Python_Basic_Assignment_9.ipynb', 'test.txt', 'today.txt', '__pycache__']\n"
     ]
    }
   ],
   "source": [
    "lst = []\n",
    "\n",
    "for i in os.listdir():\n",
    "    lst.append(i)\n",
    "\n",
    "print(lst)    "
   ]
  },
  {
   "cell_type": "code",
   "execution_count": null,
   "metadata": {},
   "outputs": [],
   "source": []
  },
  {
   "cell_type": "markdown",
   "metadata": {},
   "source": [
    "## 6. Use multiprocessing to create three separate processes. Make each one wait a random number of seconds between one and five, print the current time, and then exit.\n"
   ]
  },
  {
   "cell_type": "code",
   "execution_count": 27,
   "metadata": {},
   "outputs": [],
   "source": [
    "from multiprocessing import Process, Queue\n",
    "import time\n",
    "import random\n",
    "\n",
    "def square(idx, x, queue):\n",
    "\n",
    "    time.sleep(random.randint(1, 5))\n",
    "    queue.put((idx, x * x))"
   ]
  },
  {
   "cell_type": "code",
   "execution_count": null,
   "metadata": {},
   "outputs": [],
   "source": []
  },
  {
   "cell_type": "markdown",
   "metadata": {},
   "source": [
    "## 7. Create a date object of your day of birth."
   ]
  },
  {
   "cell_type": "code",
   "execution_count": 67,
   "metadata": {},
   "outputs": [],
   "source": [
    "import datetime\n",
    "import calendar\n",
    "\n",
    "birthday = \"1994-11-27\"\n",
    "  \n",
    "weekdays = [\"Monday\", \"Tuesday\", \"Wednesday\", \n",
    "           \"Thursday\", \"Friday\", \"Saturday\", \"Sunday\"]\n",
    "\n",
    "\n",
    "def split_date(birthday):\n",
    "  \n",
    "    year, month, day = birthday.split('-')    \n",
    "    return year, month, day\n",
    "\n",
    "\n",
    "\n",
    "def get_birthday(birthday):\n",
    "  \n",
    "    year, month, day = split_date(birthday)\n",
    "    bdate = datetime.datetime(int(year), int(month), int(day))\n",
    "    return bdate"
   ]
  },
  {
   "cell_type": "code",
   "execution_count": 68,
   "metadata": {},
   "outputs": [
    {
     "data": {
      "text/plain": [
       "datetime.datetime(1994, 11, 27, 0, 0)"
      ]
     },
     "execution_count": 68,
     "metadata": {},
     "output_type": "execute_result"
    }
   ],
   "source": [
    "get_birthday(birthday)"
   ]
  },
  {
   "cell_type": "code",
   "execution_count": null,
   "metadata": {},
   "outputs": [],
   "source": []
  },
  {
   "cell_type": "markdown",
   "metadata": {},
   "source": [
    "## 8. What day of the week was your day of birth?"
   ]
  },
  {
   "cell_type": "code",
   "execution_count": 69,
   "metadata": {},
   "outputs": [],
   "source": [
    "def get_day(birthday):\n",
    "  \n",
    "    year, month, day = split_date(birthday)\n",
    "  \n",
    "    bdate = datetime.datetime(int(year), int(month), int(day))\n",
    "    \n",
    "    weekday = bdate.weekday()\n",
    "    \n",
    "    day = weekdays[weekday]\n",
    "  \n",
    "    return day "
   ]
  },
  {
   "cell_type": "code",
   "execution_count": 70,
   "metadata": {},
   "outputs": [
    {
     "data": {
      "text/plain": [
       "'Sunday'"
      ]
     },
     "execution_count": 70,
     "metadata": {},
     "output_type": "execute_result"
    }
   ],
   "source": [
    "get_day(birthday)"
   ]
  },
  {
   "cell_type": "code",
   "execution_count": null,
   "metadata": {},
   "outputs": [],
   "source": []
  },
  {
   "cell_type": "markdown",
   "metadata": {},
   "source": [
    "## 9. When will you be (or when were you) 10,000 days old?\n"
   ]
  },
  {
   "cell_type": "code",
   "execution_count": 71,
   "metadata": {},
   "outputs": [],
   "source": [
    "from datetime import timedelta\n",
    "\n",
    "def get_day():\n",
    "    \n",
    "    when = get_birthday(birthday) + timedelta(days=10000)\n",
    "    \n",
    "    return when\n"
   ]
  },
  {
   "cell_type": "code",
   "execution_count": 72,
   "metadata": {},
   "outputs": [
    {
     "data": {
      "text/plain": [
       "datetime.datetime(2022, 4, 14, 0, 0)"
      ]
     },
     "execution_count": 72,
     "metadata": {},
     "output_type": "execute_result"
    }
   ],
   "source": [
    "get_day()\n"
   ]
  },
  {
   "cell_type": "code",
   "execution_count": null,
   "metadata": {},
   "outputs": [],
   "source": []
  }
 ],
 "metadata": {
  "kernelspec": {
   "display_name": "Python 3",
   "language": "python",
   "name": "python3"
  },
  "language_info": {
   "codemirror_mode": {
    "name": "ipython",
    "version": 3
   },
   "file_extension": ".py",
   "mimetype": "text/x-python",
   "name": "python",
   "nbconvert_exporter": "python",
   "pygments_lexer": "ipython3",
   "version": "3.8.5"
  }
 },
 "nbformat": 4,
 "nbformat_minor": 4
}
