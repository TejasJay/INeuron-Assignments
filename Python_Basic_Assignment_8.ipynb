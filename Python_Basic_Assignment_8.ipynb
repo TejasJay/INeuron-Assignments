{
 "cells": [
  {
   "cell_type": "markdown",
   "metadata": {},
   "source": [
    "## 1. Is the Python Standard Library included with PyInputPlus?\n",
    "\n",
    "### No. We need to input the module using pip install PyInputPlus\n",
    "\n"
   ]
  },
  {
   "cell_type": "code",
   "execution_count": null,
   "metadata": {},
   "outputs": [],
   "source": []
  },
  {
   "cell_type": "markdown",
   "metadata": {},
   "source": [
    "## 2. Why is PyInputPlus commonly imported with import pyinputplus as pypi?\n",
    "\n",
    "### You can import the module with import pyinputplus as pyip so that you can enter a shorter name when calling the module's functions. PyInputPlus has functions for entering a variety of input, including strings, numbers, dates, yes/no, True/False, emails, and files.\n"
   ]
  },
  {
   "cell_type": "code",
   "execution_count": null,
   "metadata": {},
   "outputs": [],
   "source": []
  },
  {
   "cell_type": "markdown",
   "metadata": {},
   "source": [
    "## 3. How do you distinguish between inputInt() and inputFloat()?\n",
    "\n",
    "### inputInt() : Accepts an integer value. This also takes additional parameters ‘min’, ‘max’, ‘greaterThan’ and ‘lessThan’  for bounds. Returns an int.\n",
    "\n",
    "### inputFloat() : Accepts a floating-point numeric value. Also takes additional ‘min’, ‘max’, ‘greaterThan’ and ‘lessThan’  parameters. Returns a float."
   ]
  },
  {
   "cell_type": "code",
   "execution_count": null,
   "metadata": {},
   "outputs": [],
   "source": []
  },
  {
   "cell_type": "markdown",
   "metadata": {},
   "source": [
    "## 4. Using PyInputPlus, how do you ensure that the user enters a whole number between 0 and 99?\n"
   ]
  },
  {
   "cell_type": "code",
   "execution_count": 2,
   "metadata": {},
   "outputs": [
    {
     "name": "stdout",
     "output_type": "stream",
     "text": [
      "Collecting pyinputplus\n",
      "  Downloading PyInputPlus-0.2.12.tar.gz (20 kB)\n",
      "  Installing build dependencies: started\n",
      "  Installing build dependencies: finished with status 'done'\n",
      "  Getting requirements to build wheel: started\n",
      "  Getting requirements to build wheel: finished with status 'done'\n",
      "    Preparing wheel metadata: started\n",
      "    Preparing wheel metadata: finished with status 'done'\n",
      "Collecting pysimplevalidate>=0.2.7\n",
      "  Downloading PySimpleValidate-0.2.12.tar.gz (22 kB)\n",
      "  Installing build dependencies: started\n",
      "  Installing build dependencies: finished with status 'done'\n",
      "  Getting requirements to build wheel: started\n",
      "  Getting requirements to build wheel: finished with status 'done'\n",
      "    Preparing wheel metadata: started\n",
      "    Preparing wheel metadata: finished with status 'done'\n",
      "Collecting stdiomask>=0.0.3\n",
      "  Downloading stdiomask-0.0.6.tar.gz (3.6 kB)\n",
      "  Installing build dependencies: started\n",
      "  Installing build dependencies: finished with status 'done'\n",
      "  Getting requirements to build wheel: started\n",
      "  Getting requirements to build wheel: finished with status 'done'\n",
      "    Preparing wheel metadata: started\n",
      "    Preparing wheel metadata: finished with status 'done'\n",
      "Building wheels for collected packages: pyinputplus, pysimplevalidate, stdiomask\n",
      "  Building wheel for pyinputplus (PEP 517): started\n",
      "  Building wheel for pyinputplus (PEP 517): finished with status 'done'\n",
      "  Created wheel for pyinputplus: filename=PyInputPlus-0.2.12-py3-none-any.whl size=11315 sha256=23553659ebaddd8af3950abb385bc590fe067cededacf3d08939ee8e76cb7fe4\n",
      "  Stored in directory: c:\\users\\tejas\\appdata\\local\\pip\\cache\\wheels\\b9\\b4\\e7\\825446929f44b25d05f4df52bc4f7d211e5dec4c547126a098\n",
      "  Building wheel for pysimplevalidate (PEP 517): started\n",
      "  Building wheel for pysimplevalidate (PEP 517): finished with status 'done'\n",
      "  Created wheel for pysimplevalidate: filename=PySimpleValidate-0.2.12-py3-none-any.whl size=16192 sha256=c02439062f478c19ee102eedc25feeb465e86c5bbccae6bd2e5b065c34b032ac\n",
      "  Stored in directory: c:\\users\\tejas\\appdata\\local\\pip\\cache\\wheels\\bd\\d4\\a5\\a003719238ab12962e430310093e567ab7d29bc3bfe062b14c\n",
      "  Building wheel for stdiomask (PEP 517): started\n",
      "  Building wheel for stdiomask (PEP 517): finished with status 'done'\n",
      "  Created wheel for stdiomask: filename=stdiomask-0.0.6-py3-none-any.whl size=3320 sha256=de89b93869c954dc2b23089e62606380c533ca2ab90e28ec50db96aeb5251fe9\n",
      "  Stored in directory: c:\\users\\tejas\\appdata\\local\\pip\\cache\\wheels\\c1\\e9\\4e\\bcdfc282cffe91bb88e951ad9a05fb166ed6460bbe3c6dc02b\n",
      "Successfully built pyinputplus pysimplevalidate stdiomask\n",
      "Installing collected packages: pysimplevalidate, stdiomask, pyinputplus\n",
      "Successfully installed pyinputplus-0.2.12 pysimplevalidate-0.2.12 stdiomask-0.0.6\n"
     ]
    }
   ],
   "source": [
    "!pip install pyinputplus"
   ]
  },
  {
   "cell_type": "code",
   "execution_count": 4,
   "metadata": {},
   "outputs": [
    {
     "name": "stdout",
     "output_type": "stream",
     "text": [
      "Enter an Integer... 34554\n",
      "Number must be less than 100.\n",
      "Enter an Integer... 45\n",
      "45\n"
     ]
    }
   ],
   "source": [
    "import pyinputplus as pyip\n",
    "  \n",
    "# integer input with\n",
    "# specific bounds\n",
    "inp = pyip.inputInt(prompt = \"Enter an Integer... \", min = 0, lessThan = 100 )\n",
    "  \n",
    "print(inp)"
   ]
  },
  {
   "cell_type": "code",
   "execution_count": null,
   "metadata": {},
   "outputs": [],
   "source": []
  },
  {
   "cell_type": "markdown",
   "metadata": {},
   "source": [
    "## 5. What is transferred to the keyword arguments allowRegexes and blockRegexes?\n",
    "\n",
    "### Certain inputs can be blocked (that is, these values are invalidated) by setting the blockRegexes parameter’s value as the regex pattern we want to invalidate."
   ]
  },
  {
   "cell_type": "code",
   "execution_count": 6,
   "metadata": {},
   "outputs": [
    {
     "name": "stdout",
     "output_type": "stream",
     "text": [
      "Enter a string... alphebets\n",
      "This response is invalid.\n",
      "Enter a string... ffff\n",
      "Enter a string... gfgfgg\n",
      "ffff\n",
      "gfgfgg\n"
     ]
    }
   ],
   "source": [
    "import pyinputplus as pyip\n",
    "  \n",
    "# string input with\n",
    "# additional parameters\n",
    "inp1 = pyip.inputStr(prompt=\"Enter a string... \", blank=True, blockRegexes = 'aeiou')\n",
    "\n",
    "inp2 = pyip.inputStr(prompt=\"Enter a string... \", blank=True, allowRegexes = 'aeiou')\n",
    "\n",
    "print(inp1)\n",
    "print(inp2)"
   ]
  },
  {
   "cell_type": "code",
   "execution_count": null,
   "metadata": {},
   "outputs": [],
   "source": []
  },
  {
   "cell_type": "markdown",
   "metadata": {},
   "source": [
    "## 6. If a blank input is entered three times, what does inputStr(limit=3) do?"
   ]
  },
  {
   "cell_type": "code",
   "execution_count": 10,
   "metadata": {},
   "outputs": [
    {
     "name": "stdout",
     "output_type": "stream",
     "text": [
      "Enter an Integer... \n",
      "Blank values are not allowed.\n",
      "Enter an Integer... \n",
      "Blank values are not allowed.\n",
      "Enter an Integer... \n",
      "Blank values are not allowed.\n",
      "0\n"
     ]
    }
   ],
   "source": [
    "\n",
    "import pyinputplus as pyip\n",
    "  \n",
    "# integer input with\n",
    "# limited number of tries\n",
    "inp = pyip.inputInt(prompt = \"Enter an Integer... \", default = 0, limit = 3)\n",
    "  \n",
    "print(inp)"
   ]
  },
  {
   "cell_type": "code",
   "execution_count": null,
   "metadata": {},
   "outputs": [],
   "source": []
  },
  {
   "cell_type": "markdown",
   "metadata": {},
   "source": [
    "## 7. If blank input is entered three times, what does inputStr(limit=3, default='hello') do?\n"
   ]
  },
  {
   "cell_type": "code",
   "execution_count": 12,
   "metadata": {},
   "outputs": [
    {
     "name": "stdout",
     "output_type": "stream",
     "text": [
      "\n",
      "Blank values are not allowed.\n",
      "\n",
      "Blank values are not allowed.\n",
      "\n",
      "Blank values are not allowed.\n",
      "<class 'int'>\n"
     ]
    }
   ],
   "source": [
    "inp = pyip.inputStr(limit=3, default='hello')\n",
    "\n",
    "print(int)"
   ]
  },
  {
   "cell_type": "code",
   "execution_count": null,
   "metadata": {},
   "outputs": [],
   "source": []
  }
 ],
 "metadata": {
  "kernelspec": {
   "display_name": "Python 3",
   "language": "python",
   "name": "python3"
  },
  "language_info": {
   "codemirror_mode": {
    "name": "ipython",
    "version": 3
   },
   "file_extension": ".py",
   "mimetype": "text/x-python",
   "name": "python",
   "nbconvert_exporter": "python",
   "pygments_lexer": "ipython3",
   "version": "3.8.5"
  }
 },
 "nbformat": 4,
 "nbformat_minor": 4
}
