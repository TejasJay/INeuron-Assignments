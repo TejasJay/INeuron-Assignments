{
 "cells": [
  {
   "cell_type": "markdown",
   "metadata": {},
   "source": [
    "## 1. How do you distinguish between shutil.copy() and shutil.copytree()?\n",
    "\n",
    "### While shutil. copy() will copy a single file, shutil. copytree() will copy an entire folder and every folder and file contained in it.\n",
    "\n"
   ]
  },
  {
   "cell_type": "code",
   "execution_count": null,
   "metadata": {},
   "outputs": [],
   "source": []
  },
  {
   "cell_type": "markdown",
   "metadata": {},
   "source": [
    "## 2. What function is used to rename files?\n",
    "\n",
    "### rename() function is used to change the name of the file or directory i.e. from old_name to new_name without changing the content present in the file.\n"
   ]
  },
  {
   "cell_type": "code",
   "execution_count": null,
   "metadata": {},
   "outputs": [],
   "source": []
  },
  {
   "cell_type": "markdown",
   "metadata": {},
   "source": [
    "## 3. What is the difference between the delete functions in the send2trash and shutil modules?\n",
    "\n",
    "### The os and shutil modules offer functions for copying, moving, renaming, and deleting files. When deleting files, you might want to use the send2trash module to move files to the recycle bin or trash rather than permanently deleting them."
   ]
  },
  {
   "cell_type": "code",
   "execution_count": null,
   "metadata": {},
   "outputs": [],
   "source": []
  },
  {
   "cell_type": "markdown",
   "metadata": {},
   "source": [
    "## 4. ZipFile objects have a close() method just like File objects’ close() method. What ZipFile method is equivalent to File objects’ open() method?\n",
    "\n",
    "### zipfile.ZipFile to open and read\n"
   ]
  },
  {
   "cell_type": "code",
   "execution_count": null,
   "metadata": {},
   "outputs": [],
   "source": []
  },
  {
   "cell_type": "markdown",
   "metadata": {},
   "source": [
    "## 5. Create a programme that searches a folder tree for files with a certain file extension (such as .pdf or .jpg). Copy these files from whatever location they are in to a new folder.\n"
   ]
  },
  {
   "cell_type": "code",
   "execution_count": 2,
   "metadata": {},
   "outputs": [
    {
     "name": "stdout",
     "output_type": "stream",
     "text": [
      "Looking in C:\\Users\\tejas\\Desktop\\ineuron\\Full stack DS\\Assignments for files with extensions of .ipynb, .py\n",
      "Coping C:\\Users\\tejas\\Desktop\\ineuron\\Full stack DS\\Assignments\\Python_Basic_Assignment_1.ipynb to C:\\Users\\tejas\\Desktop\\ineuron\\Full stack DS\\Assignments\\selectiveFolder\n",
      "Coping C:\\Users\\tejas\\Desktop\\ineuron\\Full stack DS\\Assignments\\Python_Basic_Assignment_10.ipynb to C:\\Users\\tejas\\Desktop\\ineuron\\Full stack DS\\Assignments\\selectiveFolder\n",
      "Coping C:\\Users\\tejas\\Desktop\\ineuron\\Full stack DS\\Assignments\\Python_Basic_Assignment_2.ipynb to C:\\Users\\tejas\\Desktop\\ineuron\\Full stack DS\\Assignments\\selectiveFolder\n",
      "Coping C:\\Users\\tejas\\Desktop\\ineuron\\Full stack DS\\Assignments\\Python_Basic_Assignment_3.ipynb to C:\\Users\\tejas\\Desktop\\ineuron\\Full stack DS\\Assignments\\selectiveFolder\n",
      "Coping C:\\Users\\tejas\\Desktop\\ineuron\\Full stack DS\\Assignments\\Python_Basic_Assignment_4.ipynb to C:\\Users\\tejas\\Desktop\\ineuron\\Full stack DS\\Assignments\\selectiveFolder\n",
      "Coping C:\\Users\\tejas\\Desktop\\ineuron\\Full stack DS\\Assignments\\Python_Basic_Assignment_5.ipynb to C:\\Users\\tejas\\Desktop\\ineuron\\Full stack DS\\Assignments\\selectiveFolder\n",
      "Coping C:\\Users\\tejas\\Desktop\\ineuron\\Full stack DS\\Assignments\\Python_Basic_Assignment_6.ipynb to C:\\Users\\tejas\\Desktop\\ineuron\\Full stack DS\\Assignments\\selectiveFolder\n",
      "Coping C:\\Users\\tejas\\Desktop\\ineuron\\Full stack DS\\Assignments\\Python_Basic_Assignment_7.ipynb to C:\\Users\\tejas\\Desktop\\ineuron\\Full stack DS\\Assignments\\selectiveFolder\n",
      "Coping C:\\Users\\tejas\\Desktop\\ineuron\\Full stack DS\\Assignments\\Python_Basic_Assignment_8.ipynb to C:\\Users\\tejas\\Desktop\\ineuron\\Full stack DS\\Assignments\\selectiveFolder\n",
      "Coping C:\\Users\\tejas\\Desktop\\ineuron\\Full stack DS\\Assignments\\Python_Basic_Assignment_9.ipynb to C:\\Users\\tejas\\Desktop\\ineuron\\Full stack DS\\Assignments\\selectiveFolder\n",
      "Coping C:\\Users\\tejas\\Desktop\\ineuron\\Full stack DS\\Assignments\\.ipynb_checkpoints\\INeuron_Basic_Assignment_1-checkpoint.ipynb to C:\\Users\\tejas\\Desktop\\ineuron\\Full stack DS\\Assignments\\selectiveFolder\n",
      "Coping C:\\Users\\tejas\\Desktop\\ineuron\\Full stack DS\\Assignments\\.ipynb_checkpoints\\Python_Basic_Assignment_10-checkpoint.ipynb to C:\\Users\\tejas\\Desktop\\ineuron\\Full stack DS\\Assignments\\selectiveFolder\n",
      "Coping C:\\Users\\tejas\\Desktop\\ineuron\\Full stack DS\\Assignments\\.ipynb_checkpoints\\Python_Basic_Assignment_2-checkpoint.ipynb to C:\\Users\\tejas\\Desktop\\ineuron\\Full stack DS\\Assignments\\selectiveFolder\n",
      "Coping C:\\Users\\tejas\\Desktop\\ineuron\\Full stack DS\\Assignments\\.ipynb_checkpoints\\Python_Basic_Assignment_3-checkpoint.ipynb to C:\\Users\\tejas\\Desktop\\ineuron\\Full stack DS\\Assignments\\selectiveFolder\n",
      "Coping C:\\Users\\tejas\\Desktop\\ineuron\\Full stack DS\\Assignments\\.ipynb_checkpoints\\Python_Basic_Assignment_4-checkpoint.ipynb to C:\\Users\\tejas\\Desktop\\ineuron\\Full stack DS\\Assignments\\selectiveFolder\n",
      "Coping C:\\Users\\tejas\\Desktop\\ineuron\\Full stack DS\\Assignments\\.ipynb_checkpoints\\Python_Basic_Assignment_5-checkpoint.ipynb to C:\\Users\\tejas\\Desktop\\ineuron\\Full stack DS\\Assignments\\selectiveFolder\n",
      "Coping C:\\Users\\tejas\\Desktop\\ineuron\\Full stack DS\\Assignments\\.ipynb_checkpoints\\Python_Basic_Assignment_6-checkpoint.ipynb to C:\\Users\\tejas\\Desktop\\ineuron\\Full stack DS\\Assignments\\selectiveFolder\n",
      "Coping C:\\Users\\tejas\\Desktop\\ineuron\\Full stack DS\\Assignments\\.ipynb_checkpoints\\Python_Basic_Assignment_7-checkpoint.ipynb to C:\\Users\\tejas\\Desktop\\ineuron\\Full stack DS\\Assignments\\selectiveFolder\n",
      "Coping C:\\Users\\tejas\\Desktop\\ineuron\\Full stack DS\\Assignments\\.ipynb_checkpoints\\Python_Basic_Assignment_8-checkpoint.ipynb to C:\\Users\\tejas\\Desktop\\ineuron\\Full stack DS\\Assignments\\selectiveFolder\n",
      "Coping C:\\Users\\tejas\\Desktop\\ineuron\\Full stack DS\\Assignments\\.ipynb_checkpoints\\Python_Basic_Assignment_9-checkpoint.ipynb to C:\\Users\\tejas\\Desktop\\ineuron\\Full stack DS\\Assignments\\selectiveFolder\n"
     ]
    }
   ],
   "source": [
    "import os, shutil\n",
    "\n",
    "def selectiveCopy(folder, extensions, destFolder):\n",
    "    folder = os.path.abspath(folder)\n",
    "    destFolder = os.path.abspath(destFolder)\n",
    "    print('Looking in', folder, 'for files with extensions of', ', '.join(extensions))\n",
    "    for foldername, subfolders, filenames in os.walk(folder):\n",
    "        for filename in filenames:\n",
    "            name, extension = os.path.splitext(filename)\n",
    "            if extension in extensions:\n",
    "                fileAbsPath = foldername + os.path.sep + filename\n",
    "                print('Coping', fileAbsPath, 'to', destFolder)\n",
    "                shutil.copy(fileAbsPath, destFolder)\n",
    "\n",
    "extensions = ['.ipynb', '.py']\n",
    "folder = r'C:\\Users\\tejas\\Desktop\\ineuron\\Full stack DS\\Assignments'\n",
    "destFolder = 'selectiveFolder'\n",
    "selectiveCopy(folder, extensions, destFolder)"
   ]
  },
  {
   "cell_type": "markdown",
   "metadata": {},
   "source": []
  }
 ],
 "metadata": {
  "kernelspec": {
   "display_name": "Python 3",
   "language": "python",
   "name": "python3"
  },
  "language_info": {
   "codemirror_mode": {
    "name": "ipython",
    "version": 3
   },
   "file_extension": ".py",
   "mimetype": "text/x-python",
   "name": "python",
   "nbconvert_exporter": "python",
   "pygments_lexer": "ipython3",
   "version": "3.8.5"
  }
 },
 "nbformat": 4,
 "nbformat_minor": 4
}
