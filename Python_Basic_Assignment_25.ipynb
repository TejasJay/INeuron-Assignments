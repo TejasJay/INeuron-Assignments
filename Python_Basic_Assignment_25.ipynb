{
 "cells": [
  {
   "cell_type": "markdown",
   "metadata": {},
   "source": [
    "## 1) . What is the difference between enclosing a list comprehension in square brackets and parentheses?\n",
    "\n",
    "### A List Comprehension, just like the plain range function, executes immediately and returns a list. The difference between the two kinds of expressions is that the List comprehension is enclosed in square brackets [ ] while the Generator expression is enclosed in plain parentheses ().\n"
   ]
  },
  {
   "cell_type": "code",
   "execution_count": null,
   "metadata": {},
   "outputs": [],
   "source": []
  },
  {
   "cell_type": "markdown",
   "metadata": {},
   "source": [
    "## 2) What is the relationship between generators and iterators?\n",
    "\n",
    "### Iterators are used mostly to iterate or convert other objects to an iterator using iter() function.\n",
    "\n",
    "### Generators are mostly used in loops to generate an iterator by returning all the values in the loop without affecting the iteration of the loop\n"
   ]
  },
  {
   "cell_type": "code",
   "execution_count": null,
   "metadata": {},
   "outputs": [],
   "source": []
  },
  {
   "cell_type": "markdown",
   "metadata": {},
   "source": [
    "## 3) What are the signs that a function is a generator function?\n",
    "\n",
    "### If a function contains at least one yield statement (it may contain other yield or return statements), it becomes a generator function. Both yield and return will return some value from a function.\n"
   ]
  },
  {
   "cell_type": "code",
   "execution_count": null,
   "metadata": {},
   "outputs": [],
   "source": []
  },
  {
   "cell_type": "markdown",
   "metadata": {},
   "source": [
    "## 4) What is the purpose of a yield statement?\n",
    "\n",
    "### yield is a keyword that returns from the function without destroying the state of it's local variables. When you replace return with yield in a function, it causes the function to hand back a generator object to its caller. In effect, yield will prevent the function from exiting, until the next time next() is called.\n"
   ]
  },
  {
   "cell_type": "code",
   "execution_count": null,
   "metadata": {},
   "outputs": [],
   "source": []
  },
  {
   "cell_type": "markdown",
   "metadata": {},
   "source": [
    "## 5) What is the relationship between map calls and list comprehensions? Make a comparison and contrast between the two.\n",
    "\n",
    "### List comprehension is more concise and easier to read as compared to map. List comprehension are used when a list of results is required as map only returns a map object and does not return any list. Map is faster in case of calling an already defined function (as no lambda is required).\n",
    "\n",
    "\n"
   ]
  },
  {
   "cell_type": "code",
   "execution_count": null,
   "metadata": {},
   "outputs": [],
   "source": []
  }
 ],
 "metadata": {
  "kernelspec": {
   "display_name": "Python 3",
   "language": "python",
   "name": "python3"
  },
  "language_info": {
   "codemirror_mode": {
    "name": "ipython",
    "version": 3
   },
   "file_extension": ".py",
   "mimetype": "text/x-python",
   "name": "python",
   "nbconvert_exporter": "python",
   "pygments_lexer": "ipython3",
   "version": "3.8.5"
  }
 },
 "nbformat": 4,
 "nbformat_minor": 4
}
